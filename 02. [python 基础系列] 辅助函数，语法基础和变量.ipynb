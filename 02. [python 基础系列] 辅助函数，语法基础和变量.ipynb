{
 "cells": [
  {
   "cell_type": "markdown",
   "id": "d7c5fb37",
   "metadata": {},
   "source": [
    "<p id=\"tocheading\">[python 基础系列] 辅助函数，语法基础和变量</p>\n",
    "<div id=\"toc\"></div>"
   ]
  },
  {
   "cell_type": "code",
   "execution_count": 9,
   "id": "b276c03e",
   "metadata": {},
   "outputs": [
    {
     "data": {
      "text/html": [
       "<style>\n",
       "\n",
       "#tocheading {\n",
       "    font-size: 2.5em;\n",
       "    font-weight: bolder;\n",
       "    margin-bottom: 1em;\n",
       "}\n",
       "\n",
       "</style>"
      ],
      "text/plain": [
       "<IPython.core.display.HTML object>"
      ]
     },
     "execution_count": 9,
     "metadata": {},
     "output_type": "execute_result"
    }
   ],
   "source": [
    "# 没有 ./styles/toc.css 这个文件会报错，组要是修改 TOC 的 heading\n",
    "from IPython.display import HTML\n",
    "def css_styling():\n",
    "    styles = open(\"./styles/toc.css\", \"r\").read()\n",
    "    return HTML(styles)\n",
    "css_styling()"
   ]
  },
  {
   "cell_type": "code",
   "execution_count": 13,
   "id": "2926f798",
   "metadata": {},
   "outputs": [],
   "source": [
    "# 下面这行代码是自动生成 TOC 的一个工具，网上找到的"
   ]
  },
  {
   "cell_type": "code",
   "execution_count": 12,
   "id": "6f59d9d4",
   "metadata": {},
   "outputs": [
    {
     "data": {
      "application/javascript": [
       "$.getScript('https://kmahelona.github.io/ipython_notebook_goodies/ipython_notebook_toc.js')\n"
      ],
      "text/plain": [
       "<IPython.core.display.Javascript object>"
      ]
     },
     "metadata": {},
     "output_type": "display_data"
    }
   ],
   "source": [
    "%%javascript\n",
    "$.getScript('https://kmahelona.github.io/ipython_notebook_goodies/ipython_notebook_toc.js')"
   ]
  },
  {
   "cell_type": "markdown",
   "id": "5a200968",
   "metadata": {},
   "source": [
    "# 三个辅助函数\n",
    "\n",
    "不管是从学习还是排错的角度来说，都是非常有用的三个辅助函数。\n",
    "\n",
    "## print\n",
    "\n",
    "命令行输出方法\n",
    "\n",
    "### 单行输出"
   ]
  },
  {
   "cell_type": "code",
   "execution_count": 14,
   "id": "cbdd7e77",
   "metadata": {},
   "outputs": [
    {
     "name": "stdout",
     "output_type": "stream",
     "text": [
      "hello world\n"
     ]
    }
   ],
   "source": [
    "print('hello world')"
   ]
  },
  {
   "cell_type": "markdown",
   "id": "6072163e",
   "metadata": {},
   "source": [
    "### 多行输出"
   ]
  },
  {
   "cell_type": "code",
   "execution_count": 15,
   "id": "4c907495",
   "metadata": {},
   "outputs": [
    {
     "name": "stdout",
     "output_type": "stream",
     "text": [
      "hello world\n",
      "hello John\n"
     ]
    }
   ],
   "source": [
    "print('hello world')\n",
    "print('hello John')"
   ]
  },
  {
   "cell_type": "code",
   "execution_count": 25,
   "id": "7574de30",
   "metadata": {},
   "outputs": [
    {
     "name": "stdout",
     "output_type": "stream",
     "text": [
      "hello world\n",
      "new line\n"
     ]
    }
   ],
   "source": [
    "print('hello world\\nnew line')"
   ]
  },
  {
   "cell_type": "code",
   "execution_count": 24,
   "id": "f4d80200",
   "metadata": {},
   "outputs": [
    {
     "name": "stdout",
     "output_type": "stream",
     "text": [
      "hello world\n",
      " new line\n"
     ]
    }
   ],
   "source": [
    "print('hello world\\n','new line')"
   ]
  },
  {
   "cell_type": "code",
   "execution_count": 27,
   "id": "2dd2b867",
   "metadata": {},
   "outputs": [
    {
     "ename": "SyntaxError",
     "evalue": "EOL while scanning string literal (<ipython-input-27-828f4d33d6a8>, line 2)",
     "output_type": "error",
     "traceback": [
      "\u001b[1;36m  File \u001b[1;32m\"<ipython-input-27-828f4d33d6a8>\"\u001b[1;36m, line \u001b[1;32m2\u001b[0m\n\u001b[1;33m    print('hello\u001b[0m\n\u001b[1;37m                ^\u001b[0m\n\u001b[1;31mSyntaxError\u001b[0m\u001b[1;31m:\u001b[0m EOL while scanning string literal\n"
     ]
    }
   ],
   "source": [
    "# 错误的语法\n",
    "print('hello\n",
    "  world')"
   ]
  },
  {
   "cell_type": "code",
   "execution_count": 31,
   "id": "cbba9888",
   "metadata": {},
   "outputs": [
    {
     "name": "stdout",
     "output_type": "stream",
     "text": [
      "hello world\n"
     ]
    }
   ],
   "source": [
    "# 折行符\n",
    "print('hello \\\n",
    "world')"
   ]
  },
  {
   "cell_type": "code",
   "execution_count": 32,
   "id": "5056d7e0",
   "metadata": {},
   "outputs": [
    {
     "name": "stdout",
     "output_type": "stream",
     "text": [
      "hello world\n",
      "new line\n"
     ]
    }
   ],
   "source": [
    "print('hello world\\n\\\n",
    "new line')"
   ]
  },
  {
   "cell_type": "markdown",
   "id": "048cd33a",
   "metadata": {},
   "source": [
    "## type"
   ]
  },
  {
   "cell_type": "code",
   "execution_count": 33,
   "id": "0b41ef2d",
   "metadata": {},
   "outputs": [
    {
     "data": {
      "text/plain": [
       "str"
      ]
     },
     "execution_count": 33,
     "metadata": {},
     "output_type": "execute_result"
    }
   ],
   "source": [
    "type('str')"
   ]
  },
  {
   "cell_type": "code",
   "execution_count": 34,
   "id": "0b8f9735",
   "metadata": {},
   "outputs": [
    {
     "data": {
      "text/plain": [
       "int"
      ]
     },
     "execution_count": 34,
     "metadata": {},
     "output_type": "execute_result"
    }
   ],
   "source": [
    "type(1)"
   ]
  },
  {
   "cell_type": "code",
   "execution_count": 35,
   "id": "ba9d480d",
   "metadata": {},
   "outputs": [
    {
     "data": {
      "text/plain": [
       "float"
      ]
     },
     "execution_count": 35,
     "metadata": {},
     "output_type": "execute_result"
    }
   ],
   "source": [
    "type(0.5)"
   ]
  },
  {
   "cell_type": "markdown",
   "id": "79207b6f",
   "metadata": {},
   "source": [
    "## ?"
   ]
  },
  {
   "cell_type": "code",
   "execution_count": 38,
   "id": "931e4367",
   "metadata": {},
   "outputs": [],
   "source": [
    "?print"
   ]
  },
  {
   "cell_type": "code",
   "execution_count": null,
   "id": "d80ffb84",
   "metadata": {},
   "outputs": [],
   "source": [
    "print()"
   ]
  },
  {
   "cell_type": "markdown",
   "id": "f4b31c46",
   "metadata": {},
   "source": [
    "# 语法基础 \n",
    "\n",
    "这里包含的语法，基本上是所有编程语言通用的常见语法。\n",
    "\n",
    "## 表达式\n",
    "\n",
    "语法为：\n",
    "\n",
    "> 表达式 -> 值(如数字 0-9，字符串)\n",
    ">\n",
    "> 表达式 -> 值 操作符 值"
   ]
  },
  {
   "cell_type": "code",
   "execution_count": 39,
   "id": "fe3f36c0",
   "metadata": {},
   "outputs": [
    {
     "data": {
      "text/plain": [
       "'hello world'"
      ]
     },
     "execution_count": 39,
     "metadata": {},
     "output_type": "execute_result"
    }
   ],
   "source": [
    "# 在 Jupyter Notebook 中，想知道简单的数值可以直接使用表达式，不需要用 print()\n",
    "'hello world'"
   ]
  },
  {
   "cell_type": "code",
   "execution_count": 40,
   "id": "f4931d9d",
   "metadata": {},
   "outputs": [
    {
     "data": {
      "text/plain": [
       "100"
      ]
     },
     "execution_count": 40,
     "metadata": {},
     "output_type": "execute_result"
    }
   ],
   "source": [
    "100"
   ]
  },
  {
   "cell_type": "code",
   "execution_count": 41,
   "id": "06f30f56",
   "metadata": {},
   "outputs": [
    {
     "data": {
      "text/plain": [
       "2"
      ]
     },
     "execution_count": 41,
     "metadata": {},
     "output_type": "execute_result"
    }
   ],
   "source": [
    "1 + 1"
   ]
  },
  {
   "cell_type": "code",
   "execution_count": 42,
   "id": "2483e05d",
   "metadata": {},
   "outputs": [
    {
     "data": {
      "text/plain": [
       "9"
      ]
     },
     "execution_count": 42,
     "metadata": {},
     "output_type": "execute_result"
    }
   ],
   "source": [
    "3 * 3"
   ]
  },
  {
   "cell_type": "code",
   "execution_count": 43,
   "id": "7502fe29",
   "metadata": {},
   "outputs": [
    {
     "data": {
      "text/plain": [
       "2"
      ]
     },
     "execution_count": 43,
     "metadata": {},
     "output_type": "execute_result"
    }
   ],
   "source": [
    "# % 为取余数的操作\n",
    "8 % 3"
   ]
  },
  {
   "cell_type": "code",
   "execution_count": 44,
   "id": "bb6dbcd3",
   "metadata": {},
   "outputs": [
    {
     "data": {
      "text/plain": [
       "'helloworld'"
      ]
     },
     "execution_count": 44,
     "metadata": {},
     "output_type": "execute_result"
    }
   ],
   "source": [
    "'hello' + 'world'"
   ]
  },
  {
   "cell_type": "code",
   "execution_count": 46,
   "id": "0eeccfd6",
   "metadata": {},
   "outputs": [
    {
     "data": {
      "text/plain": [
       "'GoldenaArcher_42938619'"
      ]
     },
     "execution_count": 46,
     "metadata": {},
     "output_type": "execute_result"
    }
   ],
   "source": [
    "# 在字符串之间使用 + 会将两个字符串拼接起来\n",
    "'GoldenaArcher' + '_' + '42938619'"
   ]
  },
  {
   "cell_type": "code",
   "execution_count": 48,
   "id": "f92511b3",
   "metadata": {},
   "outputs": [
    {
     "data": {
      "text/plain": [
       "'11'"
      ]
     },
     "execution_count": 48,
     "metadata": {},
     "output_type": "execute_result"
    }
   ],
   "source": [
    "'1' + '1'"
   ]
  },
  {
   "cell_type": "code",
   "execution_count": 55,
   "id": "b3cd3df9",
   "metadata": {},
   "outputs": [
    {
     "data": {
      "text/plain": [
       "'aaaaaaaaaa'"
      ]
     },
     "execution_count": 55,
     "metadata": {},
     "output_type": "execute_result"
    }
   ],
   "source": [
    "'a' * 10"
   ]
  },
  {
   "cell_type": "code",
   "execution_count": 51,
   "id": "205fa610",
   "metadata": {},
   "outputs": [
    {
     "ename": "TypeError",
     "evalue": "unsupported operand type(s) for -: 'str' and 'str'",
     "output_type": "error",
     "traceback": [
      "\u001b[1;31m---------------------------------------------------------------------------\u001b[0m",
      "\u001b[1;31mTypeError\u001b[0m                                 Traceback (most recent call last)",
      "\u001b[1;32m<ipython-input-51-0ef8620ed45c>\u001b[0m in \u001b[0;36m<module>\u001b[1;34m\u001b[0m\n\u001b[1;32m----> 1\u001b[1;33m \u001b[1;34m'hello'\u001b[0m \u001b[1;33m-\u001b[0m \u001b[1;34m'world'\u001b[0m\u001b[1;33m\u001b[0m\u001b[1;33m\u001b[0m\u001b[0m\n\u001b[0m",
      "\u001b[1;31mTypeError\u001b[0m: unsupported operand type(s) for -: 'str' and 'str'"
     ]
    }
   ],
   "source": [
    "'hello' - 'world'"
   ]
  },
  {
   "cell_type": "code",
   "execution_count": 54,
   "id": "dbe3191c",
   "metadata": {},
   "outputs": [
    {
     "ename": "TypeError",
     "evalue": "unsupported operand type(s) for /: 'str' and 'int'",
     "output_type": "error",
     "traceback": [
      "\u001b[1;31m---------------------------------------------------------------------------\u001b[0m",
      "\u001b[1;31mTypeError\u001b[0m                                 Traceback (most recent call last)",
      "\u001b[1;32m<ipython-input-54-b81b2de2849e>\u001b[0m in \u001b[0;36m<module>\u001b[1;34m\u001b[0m\n\u001b[1;32m----> 1\u001b[1;33m \u001b[1;34m'a'\u001b[0m \u001b[1;33m/\u001b[0m \u001b[1;36m10\u001b[0m\u001b[1;33m\u001b[0m\u001b[1;33m\u001b[0m\u001b[0m\n\u001b[0m",
      "\u001b[1;31mTypeError\u001b[0m: unsupported operand type(s) for /: 'str' and 'int'"
     ]
    }
   ],
   "source": [
    "'a' / 10"
   ]
  },
  {
   "cell_type": "code",
   "execution_count": 50,
   "id": "88a2deaf",
   "metadata": {},
   "outputs": [
    {
     "ename": "TypeError",
     "evalue": "can only concatenate str (not \"int\") to str",
     "output_type": "error",
     "traceback": [
      "\u001b[1;31m---------------------------------------------------------------------------\u001b[0m",
      "\u001b[1;31mTypeError\u001b[0m                                 Traceback (most recent call last)",
      "\u001b[1;32m<ipython-input-50-736f30039dc8>\u001b[0m in \u001b[0;36m<module>\u001b[1;34m\u001b[0m\n\u001b[0;32m      1\u001b[0m \u001b[1;31m# 如果操作符前后的值类型不一样，就会抛出异常\u001b[0m\u001b[1;33m\u001b[0m\u001b[1;33m\u001b[0m\u001b[1;33m\u001b[0m\u001b[0m\n\u001b[1;32m----> 2\u001b[1;33m \u001b[1;34m'1'\u001b[0m \u001b[1;33m+\u001b[0m \u001b[1;36m1\u001b[0m\u001b[1;33m\u001b[0m\u001b[1;33m\u001b[0m\u001b[0m\n\u001b[0m",
      "\u001b[1;31mTypeError\u001b[0m: can only concatenate str (not \"int\") to str"
     ]
    }
   ],
   "source": [
    "# 如果操作符前后的值类型不一样，就会抛出异常\n",
    "'1' + 1"
   ]
  },
  {
   "cell_type": "code",
   "execution_count": 56,
   "id": "210b4587",
   "metadata": {},
   "outputs": [],
   "source": [
    "a = 1"
   ]
  },
  {
   "cell_type": "code",
   "execution_count": 57,
   "id": "86960410",
   "metadata": {},
   "outputs": [
    {
     "data": {
      "text/plain": [
       "1"
      ]
     },
     "execution_count": 57,
     "metadata": {},
     "output_type": "execute_result"
    }
   ],
   "source": [
    "a"
   ]
  },
  {
   "cell_type": "code",
   "execution_count": 58,
   "id": "5cdeb976",
   "metadata": {},
   "outputs": [
    {
     "data": {
      "text/plain": [
       "True"
      ]
     },
     "execution_count": 58,
     "metadata": {},
     "output_type": "execute_result"
    }
   ],
   "source": [
    "a == 1"
   ]
  },
  {
   "cell_type": "markdown",
   "id": "c422b401",
   "metadata": {},
   "source": [
    "# 变量\n",
    "\n",
    "## 变量的声明\n",
    "\n",
    "对比一下其他语言的声明方法：\n",
    "\n",
    "> Java 的语法为：\n",
    ">\n",
    "> ```java\n",
    "> public int priceOfCar = 10000;\n",
    "> ```\n",
    ">\n",
    "> JavaScript 现在饿主流语法为：\n",
    ">\n",
    "> ```javascript\n",
    "> const priceOfCar = 10000;\n",
    "> ```"
   ]
  },
  {
   "cell_type": "code",
   "execution_count": 59,
   "id": "b1cbaa6b",
   "metadata": {},
   "outputs": [],
   "source": [
    "price_of_car = 10000"
   ]
  },
  {
   "cell_type": "code",
   "execution_count": 61,
   "id": "4f1eb7d2",
   "metadata": {},
   "outputs": [
    {
     "data": {
      "text/plain": [
       "10000"
      ]
     },
     "execution_count": 61,
     "metadata": {},
     "output_type": "execute_result"
    }
   ],
   "source": [
    "price_of_car"
   ]
  },
  {
   "cell_type": "code",
   "execution_count": 69,
   "id": "72bc7a40",
   "metadata": {},
   "outputs": [
    {
     "name": "stdout",
     "output_type": "stream",
     "text": [
      "10\n",
      "hello world\n"
     ]
    }
   ],
   "source": [
    "var = 10\n",
    "print(var) # 10\n",
    "\n",
    "var = 'hello world'\n",
    "print(var) # hello world"
   ]
  },
  {
   "cell_type": "code",
   "execution_count": 68,
   "id": "0cc00192",
   "metadata": {},
   "outputs": [
    {
     "ename": "TypeError",
     "evalue": "unsupported operand type(s) for +: 'int' and 'str'",
     "output_type": "error",
     "traceback": [
      "\u001b[1;31m---------------------------------------------------------------------------\u001b[0m",
      "\u001b[1;31mTypeError\u001b[0m                                 Traceback (most recent call last)",
      "\u001b[1;32m<ipython-input-68-6f322a588d13>\u001b[0m in \u001b[0;36m<module>\u001b[1;34m\u001b[0m\n\u001b[0;32m      1\u001b[0m \u001b[1;31m# 这里会报错，不对 '4' 进行强制类型转换就无法进行操作\u001b[0m\u001b[1;33m\u001b[0m\u001b[1;33m\u001b[0m\u001b[1;33m\u001b[0m\u001b[0m\n\u001b[1;32m----> 2\u001b[1;33m \u001b[1;36m4\u001b[0m \u001b[1;33m+\u001b[0m \u001b[1;34m'4'\u001b[0m\u001b[1;33m\u001b[0m\u001b[1;33m\u001b[0m\u001b[0m\n\u001b[0m",
      "\u001b[1;31mTypeError\u001b[0m: unsupported operand type(s) for +: 'int' and 'str'"
     ]
    }
   ],
   "source": [
    "# 这里会报错，不对 '4' 进行强制类型转换就无法进行操作\n",
    "4 + '4'"
   ]
  },
  {
   "cell_type": "code",
   "execution_count": 71,
   "id": "b3e60621",
   "metadata": {},
   "outputs": [],
   "source": [
    "# 这段代码运行过后，就可以在本页面其他地方使用 km_to_mile_diff 这个变量\n",
    "km_to_mile_diff = 0.621371"
   ]
  },
  {
   "cell_type": "code",
   "execution_count": 76,
   "id": "fed9880f",
   "metadata": {},
   "outputs": [
    {
     "name": "stdout",
     "output_type": "stream",
     "text": [
      "1.8641130000000001\n"
     ]
    }
   ],
   "source": [
    "# 3km 到 mile 的计算\n",
    "mi1 = km_to_mile_diff * 3\n",
    "print(mi1)"
   ]
  },
  {
   "cell_type": "code",
   "execution_count": 75,
   "id": "15adecc8",
   "metadata": {},
   "outputs": [
    {
     "name": "stdout",
     "output_type": "stream",
     "text": [
      "61.515729\n"
     ]
    }
   ],
   "source": [
    "#99km 到 mile 的计算\n",
    "mi2 = km_to_mile_diff * 99\n",
    "print(mi1)"
   ]
  },
  {
   "cell_type": "markdown",
   "id": "add260d6",
   "metadata": {},
   "source": [
    "## 变量运行的先后顺序\n",
    "\n",
    "这一部分是Jupyter Notebook的特性，因为在其他的程序中，除非进行特殊配置，否则代码基本都是按序执行。但是在Jupyter Notebook中，用户可以单独运行某一行，这个时候就会造成异常。"
   ]
  },
  {
   "cell_type": "code",
   "execution_count": null,
   "id": "c64db155",
   "metadata": {},
   "outputs": [],
   "source": [
    "# 变量声明了但是没有运行\n",
    "some_value = 10086"
   ]
  },
  {
   "cell_type": "code",
   "execution_count": 77,
   "id": "511cbf58",
   "metadata": {},
   "outputs": [
    {
     "ename": "NameError",
     "evalue": "name 'some_value' is not defined",
     "output_type": "error",
     "traceback": [
      "\u001b[1;31m---------------------------------------------------------------------------\u001b[0m",
      "\u001b[1;31mNameError\u001b[0m                                 Traceback (most recent call last)",
      "\u001b[1;32m<ipython-input-77-94b859b41730>\u001b[0m in \u001b[0;36m<module>\u001b[1;34m\u001b[0m\n\u001b[1;32m----> 1\u001b[1;33m \u001b[0mprint\u001b[0m\u001b[1;33m(\u001b[0m\u001b[0msome_value\u001b[0m\u001b[1;33m)\u001b[0m\u001b[1;33m\u001b[0m\u001b[1;33m\u001b[0m\u001b[0m\n\u001b[0m",
      "\u001b[1;31mNameError\u001b[0m: name 'some_value' is not defined"
     ]
    }
   ],
   "source": [
    "print(some_value)"
   ]
  }
 ],
 "metadata": {
  "kernelspec": {
   "display_name": "Python 3",
   "language": "python",
   "name": "python3"
  },
  "language_info": {
   "codemirror_mode": {
    "name": "ipython",
    "version": 3
   },
   "file_extension": ".py",
   "mimetype": "text/x-python",
   "name": "python",
   "nbconvert_exporter": "python",
   "pygments_lexer": "ipython3",
   "version": "3.8.8"
  }
 },
 "nbformat": 4,
 "nbformat_minor": 5
}
