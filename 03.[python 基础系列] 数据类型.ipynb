{
 "cells": [
  {
   "cell_type": "markdown",
   "id": "3625394e",
   "metadata": {},
   "source": [
    "<p id=\"tocheading\">[python 基础系列] 数据类型</p>\n",
    "<div id=\"toc\"></div>"
   ]
  },
  {
   "cell_type": "markdown",
   "id": "c59d3190",
   "metadata": {},
   "source": [
    "# Data Type\n",
    "\n",
    "## 布尔值(Boolean `bool`)\n",
    "\n",
    "布尔值 代表的就是 真、假的意思，python 中的 布尔值 功能还是很强大的，特别是对稍微复杂一些的数据结构进行判断时。\n",
    "\n",
    "python 对于 布尔值 的操作还是比较简单明了的，通常都会使用英语单词去指定：\n",
    "\n",
    "- or\n",
    "- and\n",
    "- not"
   ]
  },
  {
   "cell_type": "code",
   "execution_count": 59,
   "id": "b51c55fc",
   "metadata": {},
   "outputs": [],
   "source": [
    "t = True\n",
    "f = False"
   ]
  },
  {
   "cell_type": "code",
   "execution_count": 60,
   "id": "4275ebd5",
   "metadata": {},
   "outputs": [
    {
     "data": {
      "text/plain": [
       "True"
      ]
     },
     "execution_count": 60,
     "metadata": {},
     "output_type": "execute_result"
    }
   ],
   "source": [
    "t or f"
   ]
  },
  {
   "cell_type": "code",
   "execution_count": 61,
   "id": "5eae7a77",
   "metadata": {},
   "outputs": [
    {
     "data": {
      "text/plain": [
       "False"
      ]
     },
     "execution_count": 61,
     "metadata": {},
     "output_type": "execute_result"
    }
   ],
   "source": [
    "t and f"
   ]
  },
  {
   "cell_type": "code",
   "execution_count": 70,
   "id": "db29fbe5",
   "metadata": {},
   "outputs": [
    {
     "data": {
      "text/plain": [
       "False"
      ]
     },
     "execution_count": 70,
     "metadata": {},
     "output_type": "execute_result"
    }
   ],
   "source": [
    "# 判断等于\n",
    "1 == 2"
   ]
  },
  {
   "cell_type": "code",
   "execution_count": 64,
   "id": "154b1f9a",
   "metadata": {},
   "outputs": [
    {
     "data": {
      "text/plain": [
       "bool"
      ]
     },
     "execution_count": 64,
     "metadata": {},
     "output_type": "execute_result"
    }
   ],
   "source": [
    "type (1 == 2)"
   ]
  },
  {
   "cell_type": "code",
   "execution_count": 65,
   "id": "68213801",
   "metadata": {},
   "outputs": [
    {
     "data": {
      "text/plain": [
       "False"
      ]
     },
     "execution_count": 65,
     "metadata": {},
     "output_type": "execute_result"
    }
   ],
   "source": [
    "(1 == 2) or (2 == 3)"
   ]
  },
  {
   "cell_type": "code",
   "execution_count": 71,
   "id": "0b43c9e9",
   "metadata": {},
   "outputs": [
    {
     "data": {
      "text/plain": [
       "True"
      ]
     },
     "execution_count": 71,
     "metadata": {},
     "output_type": "execute_result"
    }
   ],
   "source": [
    "# 判断不等于\n",
    "1 != 2"
   ]
  },
  {
   "cell_type": "code",
   "execution_count": 66,
   "id": "3e5822fb",
   "metadata": {},
   "outputs": [
    {
     "data": {
      "text/plain": [
       "True"
      ]
     },
     "execution_count": 66,
     "metadata": {},
     "output_type": "execute_result"
    }
   ],
   "source": [
    "# 判断小与，大于通用\n",
    "(1 < 2) or (2 < 1)"
   ]
  },
  {
   "cell_type": "code",
   "execution_count": 72,
   "id": "01ad3f12",
   "metadata": {},
   "outputs": [
    {
     "data": {
      "text/plain": [
       "True"
      ]
     },
     "execution_count": 72,
     "metadata": {},
     "output_type": "execute_result"
    }
   ],
   "source": [
    "# 判断小于等于，大于等于通用\n",
    "2 <= 2"
   ]
  },
  {
   "cell_type": "code",
   "execution_count": 68,
   "id": "0a09aea5",
   "metadata": {},
   "outputs": [
    {
     "data": {
      "text/plain": [
       "False"
      ]
     },
     "execution_count": 68,
     "metadata": {},
     "output_type": "execute_result"
    }
   ],
   "source": [
    "not t"
   ]
  },
  {
   "cell_type": "markdown",
   "id": "6874c04b",
   "metadata": {},
   "source": [
    "## 数字 (Number)\n",
    "\n",
    "\n",
    "### 整型 (Integer, `int`)\n",
    "\n",
    "#### 整型的声明"
   ]
  },
  {
   "cell_type": "code",
   "execution_count": 15,
   "id": "f4680c37",
   "metadata": {},
   "outputs": [
    {
     "data": {
      "text/plain": [
       "123"
      ]
     },
     "execution_count": 15,
     "metadata": {},
     "output_type": "execute_result"
    }
   ],
   "source": [
    "123"
   ]
  },
  {
   "cell_type": "code",
   "execution_count": 16,
   "id": "6a35961e",
   "metadata": {},
   "outputs": [
    {
     "data": {
      "text/plain": [
       "int"
      ]
     },
     "execution_count": 16,
     "metadata": {},
     "output_type": "execute_result"
    }
   ],
   "source": [
    "type(123)"
   ]
  },
  {
   "cell_type": "code",
   "execution_count": 17,
   "id": "e635dd40",
   "metadata": {},
   "outputs": [
    {
     "ename": "SyntaxError",
     "evalue": "leading zeros in decimal integer literals are not permitted; use an 0o prefix for octal integers (<ipython-input-17-376dc80a7536>, line 1)",
     "output_type": "error",
     "traceback": [
      "\u001b[1;36m  File \u001b[1;32m\"<ipython-input-17-376dc80a7536>\"\u001b[1;36m, line \u001b[1;32m1\u001b[0m\n\u001b[1;33m    01\u001b[0m\n\u001b[1;37m     ^\u001b[0m\n\u001b[1;31mSyntaxError\u001b[0m\u001b[1;31m:\u001b[0m leading zeros in decimal integer literals are not permitted; use an 0o prefix for octal integers\n"
     ]
    }
   ],
   "source": [
    "01"
   ]
  },
  {
   "cell_type": "code",
   "execution_count": 10,
   "id": "9e061c39",
   "metadata": {},
   "outputs": [
    {
     "data": {
      "text/plain": [
       "(123, 456)"
      ]
     },
     "execution_count": 10,
     "metadata": {},
     "output_type": "execute_result"
    }
   ],
   "source": [
    "123,456"
   ]
  },
  {
   "cell_type": "code",
   "execution_count": 11,
   "id": "524b87cb",
   "metadata": {},
   "outputs": [
    {
     "data": {
      "text/plain": [
       "tuple"
      ]
     },
     "execution_count": 11,
     "metadata": {},
     "output_type": "execute_result"
    }
   ],
   "source": [
    "type((123,456))"
   ]
  },
  {
   "cell_type": "markdown",
   "id": "355cb9c3",
   "metadata": {},
   "source": [
    "#### 整型的基本操作\n",
    "\n",
    "如：加、减、乘、除、模(取余)。"
   ]
  },
  {
   "cell_type": "code",
   "execution_count": 12,
   "id": "fc9d53ef",
   "metadata": {},
   "outputs": [
    {
     "data": {
      "text/plain": [
       "3"
      ]
     },
     "execution_count": 12,
     "metadata": {},
     "output_type": "execute_result"
    }
   ],
   "source": [
    "1 + 2"
   ]
  },
  {
   "cell_type": "code",
   "execution_count": 25,
   "id": "7838ecf5",
   "metadata": {},
   "outputs": [
    {
     "data": {
      "text/plain": [
       "3"
      ]
     },
     "execution_count": 25,
     "metadata": {},
     "output_type": "execute_result"
    }
   ],
   "source": [
    "a = 1\n",
    "a = a + 2\n",
    "a"
   ]
  },
  {
   "cell_type": "code",
   "execution_count": 26,
   "id": "87bbc6dd",
   "metadata": {},
   "outputs": [
    {
     "data": {
      "text/plain": [
       "5"
      ]
     },
     "execution_count": 26,
     "metadata": {},
     "output_type": "execute_result"
    }
   ],
   "source": [
    "a += 2\n",
    "a"
   ]
  },
  {
   "cell_type": "code",
   "execution_count": 20,
   "id": "723793e0",
   "metadata": {},
   "outputs": [
    {
     "data": {
      "text/plain": [
       "0"
      ]
     },
     "execution_count": 20,
     "metadata": {},
     "output_type": "execute_result"
    }
   ],
   "source": [
    "1 - 1"
   ]
  },
  {
   "cell_type": "code",
   "execution_count": 21,
   "id": "c3ccb84e",
   "metadata": {},
   "outputs": [
    {
     "data": {
      "text/plain": [
       "10"
      ]
     },
     "execution_count": 21,
     "metadata": {},
     "output_type": "execute_result"
    }
   ],
   "source": [
    "2 * 5"
   ]
  },
  {
   "cell_type": "markdown",
   "id": "d31494c2",
   "metadata": {},
   "source": [
    "除法会稍微有一些特别"
   ]
  },
  {
   "cell_type": "code",
   "execution_count": 16,
   "id": "ac770971",
   "metadata": {},
   "outputs": [
    {
     "data": {
      "text/plain": [
       "1"
      ]
     },
     "execution_count": 16,
     "metadata": {},
     "output_type": "execute_result"
    }
   ],
   "source": [
    "9 // 5"
   ]
  },
  {
   "cell_type": "code",
   "execution_count": 17,
   "id": "0ef4bc90",
   "metadata": {},
   "outputs": [
    {
     "data": {
      "text/plain": [
       "1.8"
      ]
     },
     "execution_count": 17,
     "metadata": {},
     "output_type": "execute_result"
    }
   ],
   "source": [
    "9 / 5"
   ]
  },
  {
   "cell_type": "code",
   "execution_count": 18,
   "id": "a422d23d",
   "metadata": {},
   "outputs": [
    {
     "data": {
      "text/plain": [
       "4"
      ]
     },
     "execution_count": 18,
     "metadata": {},
     "output_type": "execute_result"
    }
   ],
   "source": [
    "9 % 5"
   ]
  },
  {
   "cell_type": "code",
   "execution_count": 27,
   "id": "1e57a609",
   "metadata": {},
   "outputs": [
    {
     "data": {
      "text/plain": [
       "5.0"
      ]
     },
     "execution_count": 27,
     "metadata": {},
     "output_type": "execute_result"
    }
   ],
   "source": [
    "10 / 2"
   ]
  },
  {
   "cell_type": "code",
   "execution_count": 29,
   "id": "1bbade0d",
   "metadata": {},
   "outputs": [
    {
     "data": {
      "text/plain": [
       "float"
      ]
     },
     "execution_count": 29,
     "metadata": {},
     "output_type": "execute_result"
    }
   ],
   "source": [
    "type (10 / 2)"
   ]
  },
  {
   "cell_type": "code",
   "execution_count": 28,
   "id": "417f94ea",
   "metadata": {},
   "outputs": [
    {
     "data": {
      "text/plain": [
       "5"
      ]
     },
     "execution_count": 28,
     "metadata": {},
     "output_type": "execute_result"
    }
   ],
   "source": [
    "10 // 2"
   ]
  },
  {
   "cell_type": "code",
   "execution_count": 30,
   "id": "2077a223",
   "metadata": {},
   "outputs": [
    {
     "data": {
      "text/plain": [
       "int"
      ]
     },
     "execution_count": 30,
     "metadata": {},
     "output_type": "execute_result"
    }
   ],
   "source": [
    "type (10 // 2)"
   ]
  },
  {
   "cell_type": "markdown",
   "id": "3fcd160e",
   "metadata": {},
   "source": [
    "当然，python 中也同样有 **优先权** 的问题："
   ]
  },
  {
   "cell_type": "code",
   "execution_count": 19,
   "id": "249c098c",
   "metadata": {},
   "outputs": [
    {
     "data": {
      "text/plain": [
       "7"
      ]
     },
     "execution_count": 19,
     "metadata": {},
     "output_type": "execute_result"
    }
   ],
   "source": [
    "1 + 2 * 3"
   ]
  },
  {
   "cell_type": "markdown",
   "id": "3ad2e527",
   "metadata": {},
   "source": [
    "#### 整型的极限\n",
    "\n",
    "python2 中，整型 `int` 的极限为 $2 ^ {32}$ 个字节，取值范围为 $-2 ^ {31}$ 到 $2 ^ {31} - 1$，等同于 $-2147483648$ 到 $2147483647$。之所以正整数比负数少一个的原因是因为还需要包括一个 0 。而另一个类型为 `long`，它的极限为 $2 ^ {64}$。\n",
    "\n",
    "python3 中取消了 `int` 和 `long` 的区别，现在只剩下一个 `int`。而且 `int` 的大小也不再设限，而是取决于系统的大小，对于正常的家用电脑来说应该还是 64位，即 $2 ^ {64}$。但是如果有些电脑的配置为 128位，那么 `int` 的极限就是  $2 ^ {128}$。\n",
    "\n",
    "#### 不同的进制\n",
    "\n",
    "整型的赋值可以通过二进制、八进制、十进制、十六进制来完成，如："
   ]
  },
  {
   "cell_type": "code",
   "execution_count": 31,
   "id": "ae9a1446",
   "metadata": {},
   "outputs": [
    {
     "data": {
      "text/plain": [
       "10"
      ]
     },
     "execution_count": 31,
     "metadata": {},
     "output_type": "execute_result"
    }
   ],
   "source": [
    "10"
   ]
  },
  {
   "cell_type": "code",
   "execution_count": 37,
   "id": "84c6a709",
   "metadata": {},
   "outputs": [
    {
     "data": {
      "text/plain": [
       "2"
      ]
     },
     "execution_count": 37,
     "metadata": {},
     "output_type": "execute_result"
    }
   ],
   "source": [
    "# b 代表 binary\n",
    "0b10"
   ]
  },
  {
   "cell_type": "code",
   "execution_count": 38,
   "id": "d8501e76",
   "metadata": {},
   "outputs": [
    {
     "data": {
      "text/plain": [
       "8"
      ]
     },
     "execution_count": 38,
     "metadata": {},
     "output_type": "execute_result"
    }
   ],
   "source": [
    "# o 代表 octal \n",
    "0o10"
   ]
  },
  {
   "cell_type": "code",
   "execution_count": 39,
   "id": "07cbde8a",
   "metadata": {},
   "outputs": [
    {
     "data": {
      "text/plain": [
       "16"
      ]
     },
     "execution_count": 39,
     "metadata": {},
     "output_type": "execute_result"
    }
   ],
   "source": [
    "# x 代表 hex\n",
    "0x10"
   ]
  },
  {
   "cell_type": "markdown",
   "id": "b890cef8",
   "metadata": {},
   "source": [
    "### Float (float)\n",
    "\n",
    "浮点(float) 的操作与 整型(integer) 类似，只是声明方式稍微有些不同："
   ]
  },
  {
   "cell_type": "code",
   "execution_count": 40,
   "id": "40e6e95e",
   "metadata": {},
   "outputs": [
    {
     "data": {
      "text/plain": [
       "float"
      ]
     },
     "execution_count": 40,
     "metadata": {},
     "output_type": "execute_result"
    }
   ],
   "source": [
    "f = 10.5\n",
    "type(f)"
   ]
  },
  {
   "cell_type": "markdown",
   "id": "8742545c",
   "metadata": {},
   "source": [
    "除此之外，浮点也可以用来声明科学记数法："
   ]
  },
  {
   "cell_type": "code",
   "execution_count": 43,
   "id": "a99d8cd9",
   "metadata": {},
   "outputs": [
    {
     "name": "stdout",
     "output_type": "stream",
     "text": [
      "50000000000.0\n"
     ]
    },
    {
     "data": {
      "text/plain": [
       "float"
      ]
     },
     "execution_count": 43,
     "metadata": {},
     "output_type": "execute_result"
    }
   ],
   "source": [
    "scientific_notation = 5e10\n",
    "print(scientific_notation)\n",
    "type(scientific_notation)"
   ]
  },
  {
   "cell_type": "markdown",
   "id": "48d610b0",
   "metadata": {},
   "source": [
    "### Complex (complex)\n",
    "\n",
    "复数 (complex) 也是 python 内置类型，这应该也是为什么 python 受到 数据科学(data science) 青睐的原因之一吧。"
   ]
  },
  {
   "cell_type": "code",
   "execution_count": 46,
   "id": "6f8a4677",
   "metadata": {},
   "outputs": [
    {
     "data": {
      "text/plain": [
       "complex"
      ]
     },
     "execution_count": 46,
     "metadata": {},
     "output_type": "execute_result"
    }
   ],
   "source": [
    "complex_num = 5j\n",
    "type(complex_num)"
   ]
  },
  {
   "cell_type": "markdown",
   "id": "759a9e45",
   "metadata": {},
   "source": [
    "另外也可以调用函数 `complex()` 去实现声明"
   ]
  },
  {
   "cell_type": "code",
   "execution_count": 47,
   "id": "94fec014",
   "metadata": {},
   "outputs": [
    {
     "data": {
      "text/plain": [
       "(5+5j)"
      ]
     },
     "execution_count": 47,
     "metadata": {},
     "output_type": "execute_result"
    }
   ],
   "source": [
    "complex(5, 5)"
   ]
  },
  {
   "cell_type": "code",
   "execution_count": 49,
   "id": "68b4ff46",
   "metadata": {},
   "outputs": [
    {
     "data": {
      "text/plain": [
       "(5+5j)"
      ]
     },
     "execution_count": 49,
     "metadata": {},
     "output_type": "execute_result"
    }
   ],
   "source": [
    "complex('5+5j')"
   ]
  },
  {
   "cell_type": "markdown",
   "id": "197318e9",
   "metadata": {},
   "source": [
    "### `math`库\n",
    "\n",
    "这里引用的是 `math` 这个库，其中提供的函数都是别人写好的。\n",
    "\n",
    "这个库包含的内容有：\n",
    "\n",
    "- 常见的常量\n",
    "\n",
    "- 常见的函数(操作)"
   ]
  },
  {
   "cell_type": "code",
   "execution_count": 51,
   "id": "371a9d0d",
   "metadata": {},
   "outputs": [],
   "source": [
    "# 需要先引用\n",
    "import math"
   ]
  },
  {
   "cell_type": "code",
   "execution_count": 52,
   "id": "198b4445",
   "metadata": {},
   "outputs": [
    {
     "name": "stdout",
     "output_type": "stream",
     "text": [
      "2.718281828459045\n"
     ]
    }
   ],
   "source": [
    "print(math.e)"
   ]
  },
  {
   "cell_type": "code",
   "execution_count": 53,
   "id": "72414da8",
   "metadata": {},
   "outputs": [
    {
     "name": "stdout",
     "output_type": "stream",
     "text": [
      "3.141592653589793\n"
     ]
    }
   ],
   "source": [
    "print(math.pi)"
   ]
  },
  {
   "cell_type": "code",
   "execution_count": 54,
   "id": "d4d66742",
   "metadata": {},
   "outputs": [
    {
     "name": "stdout",
     "output_type": "stream",
     "text": [
      "2\n",
      "3\n"
     ]
    }
   ],
   "source": [
    "print(math.floor(2.5))\n",
    "print(math.ceil(2.5))"
   ]
  },
  {
   "cell_type": "code",
   "execution_count": 56,
   "id": "92d8f0b7",
   "metadata": {},
   "outputs": [
    {
     "name": "stdout",
     "output_type": "stream",
     "text": [
      "8.0\n",
      "8\n"
     ]
    }
   ],
   "source": [
    "print(math.pow(2,3))  # 注意看输出结果的类型是不一样的\n",
    "print(2 ** 3)"
   ]
  },
  {
   "cell_type": "code",
   "execution_count": 57,
   "id": "3aaa5db6",
   "metadata": {},
   "outputs": [
    {
     "data": {
      "text/plain": [
       "5.0"
      ]
     },
     "execution_count": 57,
     "metadata": {},
     "output_type": "execute_result"
    }
   ],
   "source": [
    "math.sqrt(25)"
   ]
  },
  {
   "cell_type": "markdown",
   "id": "9f14560d",
   "metadata": {},
   "source": [
    "## 字符串 (String  `str`)\n",
    "\n",
    "字符串(str) 是一种 序列(sequence)，它是一串 字符序列。\n",
    "\n",
    "### 基础语法"
   ]
  },
  {
   "cell_type": "code",
   "execution_count": 75,
   "id": "3f00c469",
   "metadata": {},
   "outputs": [
    {
     "data": {
      "text/plain": [
       "'hello world'"
      ]
     },
     "execution_count": 75,
     "metadata": {},
     "output_type": "execute_result"
    }
   ],
   "source": [
    "s = 'hello world'\n",
    "s"
   ]
  },
  {
   "cell_type": "code",
   "execution_count": 76,
   "id": "f28b8f85",
   "metadata": {},
   "outputs": [
    {
     "data": {
      "text/plain": [
       "'hello world'"
      ]
     },
     "execution_count": 76,
     "metadata": {},
     "output_type": "execute_result"
    }
   ],
   "source": [
    "s2 = \"hello world\"\n",
    "s2"
   ]
  },
  {
   "cell_type": "markdown",
   "id": "e08e9a80",
   "metadata": {},
   "source": [
    "之所以出现 单引号(') 和双引号(\") 的原因在于可以方便的进行字符串嵌套。"
   ]
  },
  {
   "cell_type": "code",
   "execution_count": 78,
   "id": "608e5d86",
   "metadata": {},
   "outputs": [
    {
     "data": {
      "text/plain": [
       "'刘备曾说过: \"勿以恶小而为之，勿以善小而不为。惟贤惟德，能服于人\"'"
      ]
     },
     "execution_count": 78,
     "metadata": {},
     "output_type": "execute_result"
    }
   ],
   "source": [
    "s3 = '刘备曾说过: \"勿以恶小而为之，勿以善小而不为。惟贤惟德，能服于人\"'\n",
    "s3"
   ]
  },
  {
   "cell_type": "markdown",
   "id": "79872cab",
   "metadata": {},
   "source": [
    "或者也可以使用转义字符 `\\\"`"
   ]
  },
  {
   "cell_type": "code",
   "execution_count": 79,
   "id": "23e972d3",
   "metadata": {},
   "outputs": [
    {
     "data": {
      "text/plain": [
       "'刘备曾说过: \"勿以恶小而为之，勿以善小而不为。惟贤惟德，能服于人\"'"
      ]
     },
     "execution_count": 79,
     "metadata": {},
     "output_type": "execute_result"
    }
   ],
   "source": [
    "s4 = \"刘备曾说过: \\\"勿以恶小而为之，勿以善小而不为。惟贤惟德，能服于人\\\"\"\n",
    "s4"
   ]
  },
  {
   "cell_type": "markdown",
   "id": "449602f4",
   "metadata": {},
   "source": [
    "同样，多行字符也可以使用转义字符 `\\n`，或是 python 特有的 `''' '''` 多行输入法"
   ]
  },
  {
   "cell_type": "code",
   "execution_count": 83,
   "id": "348ec33e",
   "metadata": {},
   "outputs": [
    {
     "name": "stdout",
     "output_type": "stream",
     "text": [
      "hello \n",
      "world\n",
      "\n",
      "hello\n",
      "world\n",
      "\n"
     ]
    }
   ],
   "source": [
    "multiple_line1 = 'hello \\nworld'\n",
    "print(multiple_line1)\n",
    "multiple_line2 = '''\n",
    "hello\n",
    "world\n",
    "'''\n",
    "print(multiple_line2)"
   ]
  },
  {
   "cell_type": "markdown",
   "id": "4af00511",
   "metadata": {},
   "source": [
    "### 类型转换\n",
    "\n",
    "python 是强类型的语言，也就是说类型之间不能互通"
   ]
  },
  {
   "cell_type": "code",
   "execution_count": 86,
   "id": "feaad51c",
   "metadata": {},
   "outputs": [
    {
     "data": {
      "text/plain": [
       "20"
      ]
     },
     "execution_count": 86,
     "metadata": {},
     "output_type": "execute_result"
    }
   ],
   "source": [
    "10 + 10"
   ]
  },
  {
   "cell_type": "code",
   "execution_count": 87,
   "id": "af576710",
   "metadata": {},
   "outputs": [
    {
     "data": {
      "text/plain": [
       "'1010'"
      ]
     },
     "execution_count": 87,
     "metadata": {},
     "output_type": "execute_result"
    }
   ],
   "source": [
    "\"10\" + \"10\""
   ]
  },
  {
   "cell_type": "code",
   "execution_count": 85,
   "id": "2a7c29b7",
   "metadata": {},
   "outputs": [
    {
     "ename": "TypeError",
     "evalue": "can only concatenate str (not \"int\") to str",
     "output_type": "error",
     "traceback": [
      "\u001b[1;31m---------------------------------------------------------------------------\u001b[0m",
      "\u001b[1;31mTypeError\u001b[0m                                 Traceback (most recent call last)",
      "\u001b[1;32m<ipython-input-85-2c35f53f4067>\u001b[0m in \u001b[0;36m<module>\u001b[1;34m\u001b[0m\n\u001b[0;32m      1\u001b[0m \u001b[1;31m# str + int 会报错\u001b[0m\u001b[1;33m\u001b[0m\u001b[1;33m\u001b[0m\u001b[1;33m\u001b[0m\u001b[0m\n\u001b[1;32m----> 2\u001b[1;33m \u001b[1;34m\"10\"\u001b[0m \u001b[1;33m+\u001b[0m \u001b[1;36m10\u001b[0m\u001b[1;33m\u001b[0m\u001b[1;33m\u001b[0m\u001b[0m\n\u001b[0m",
      "\u001b[1;31mTypeError\u001b[0m: can only concatenate str (not \"int\") to str"
     ]
    }
   ],
   "source": [
    "# str + int 会报错\n",
    "\"10\" + 10"
   ]
  },
  {
   "cell_type": "markdown",
   "id": "53b6ffbc",
   "metadata": {},
   "source": [
    "所以会需要数据类型的转换"
   ]
  },
  {
   "cell_type": "code",
   "execution_count": 88,
   "id": "b69d285d",
   "metadata": {},
   "outputs": [
    {
     "data": {
      "text/plain": [
       "'10086'"
      ]
     },
     "execution_count": 88,
     "metadata": {},
     "output_type": "execute_result"
    }
   ],
   "source": [
    "str(10086)"
   ]
  },
  {
   "cell_type": "code",
   "execution_count": 89,
   "id": "fd0b254d",
   "metadata": {},
   "outputs": [
    {
     "data": {
      "text/plain": [
       "'True'"
      ]
     },
     "execution_count": 89,
     "metadata": {},
     "output_type": "execute_result"
    }
   ],
   "source": [
    "str(True)"
   ]
  },
  {
   "cell_type": "code",
   "execution_count": 90,
   "id": "eaf8556e",
   "metadata": {},
   "outputs": [
    {
     "data": {
      "text/plain": [
       "100.1"
      ]
     },
     "execution_count": 90,
     "metadata": {},
     "output_type": "execute_result"
    }
   ],
   "source": [
    "float('100.1')"
   ]
  },
  {
   "cell_type": "code",
   "execution_count": 91,
   "id": "2310b178",
   "metadata": {},
   "outputs": [
    {
     "data": {
      "text/plain": [
       "10086"
      ]
     },
     "execution_count": 91,
     "metadata": {},
     "output_type": "execute_result"
    }
   ],
   "source": [
    "int(\"10086\")"
   ]
  },
  {
   "cell_type": "markdown",
   "id": "7156ddbd",
   "metadata": {},
   "source": [
    "尽管字符串与其他类型无法混用，但是对于一些数据类型来说，python 会尝试进行类型转换，如："
   ]
  },
  {
   "cell_type": "code",
   "execution_count": 92,
   "id": "8d619bbe",
   "metadata": {},
   "outputs": [
    {
     "data": {
      "text/plain": [
       "2.0"
      ]
     },
     "execution_count": 92,
     "metadata": {},
     "output_type": "execute_result"
    }
   ],
   "source": [
    "1 + 1.0"
   ]
  },
  {
   "cell_type": "code",
   "execution_count": 97,
   "id": "66fa398a",
   "metadata": {},
   "outputs": [
    {
     "name": "stdout",
     "output_type": "stream",
     "text": [
      "2\n",
      "1\n"
     ]
    }
   ],
   "source": [
    "# 布尔值 中的 True 的值可转为 1， False 可转为 0\n",
    "print(True + 1)\n",
    "print(False + 1)"
   ]
  },
  {
   "cell_type": "markdown",
   "id": "08ef2628",
   "metadata": {},
   "source": [
    "### 处理字符串\n",
    "\n",
    "#### 拼接\n",
    "\n",
    "字符串的拼接可以通过 `+` 完成"
   ]
  },
  {
   "cell_type": "code",
   "execution_count": 98,
   "id": "c321c6fc",
   "metadata": {},
   "outputs": [
    {
     "data": {
      "text/plain": [
       "'hello world'"
      ]
     },
     "execution_count": 98,
     "metadata": {},
     "output_type": "execute_result"
    }
   ],
   "source": [
    "'hello ' + 'world'"
   ]
  },
  {
   "cell_type": "markdown",
   "id": "68ef98b9",
   "metadata": {},
   "source": [
    "#### 重复\n",
    "\n",
    "字符串的重复可以通过 `*` 完成"
   ]
  },
  {
   "cell_type": "code",
   "execution_count": 99,
   "id": "1f42940e",
   "metadata": {},
   "outputs": [
    {
     "data": {
      "text/plain": [
       "'wwwwwwwwww'"
      ]
     },
     "execution_count": 99,
     "metadata": {},
     "output_type": "execute_result"
    }
   ],
   "source": [
    "'w' * 10"
   ]
  },
  {
   "cell_type": "markdown",
   "id": "819bc0b4",
   "metadata": {},
   "source": [
    "#### 取值\n",
    "\n",
    "- 按照 下标/索引取值\n",
    "\n",
    "  python 同样支持使用 负数 取值，使用负值会从尾部开始寻找"
   ]
  },
  {
   "cell_type": "code",
   "execution_count": 107,
   "id": "a60c67f4",
   "metadata": {},
   "outputs": [
    {
     "data": {
      "text/plain": [
       "'h'"
      ]
     },
     "execution_count": 107,
     "metadata": {},
     "output_type": "execute_result"
    }
   ],
   "source": [
    "greeting = 'hello world, hello there'\n",
    "greeting[0]"
   ]
  },
  {
   "cell_type": "code",
   "execution_count": 108,
   "id": "b3cdbb93",
   "metadata": {},
   "outputs": [
    {
     "data": {
      "text/plain": [
       "'e'"
      ]
     },
     "execution_count": 108,
     "metadata": {},
     "output_type": "execute_result"
    }
   ],
   "source": [
    "greeting[-1]"
   ]
  },
  {
   "cell_type": "markdown",
   "id": "fcf5b1cb",
   "metadata": {},
   "source": [
    "- 使用内置的 slice操作 进行取值\n",
    "\n",
    "  语法为：`[start:end:step]`\n",
    "  \n",
    "  其中，有几个需要注意：\n",
    "  \n",
    "  - `[:]` 代表获取所有字符串\n",
    "  - `[start:]` 代表获取从 下标 `[start, ..., len - 1]` 开始的所有字符串\n",
    "  - `[:end]` 代表获取 `[0, 1, ..., end -1]` 的所有值\n",
    "  - `[start:end]` 代表获取 `[]start, ..., end - 1` 中的字符串\n",
    "  - `[start:end:step]` 代表获取 `[]start, ..., end - 1` 中的字符串，每次操作都会跳过 `step` 个字符"
   ]
  },
  {
   "cell_type": "code",
   "execution_count": 109,
   "id": "07f23ea2",
   "metadata": {},
   "outputs": [
    {
     "data": {
      "text/plain": [
       "'hello world, hello there'"
      ]
     },
     "execution_count": 109,
     "metadata": {},
     "output_type": "execute_result"
    }
   ],
   "source": [
    "greeting[:]"
   ]
  },
  {
   "cell_type": "code",
   "execution_count": 110,
   "id": "e94c8016",
   "metadata": {},
   "outputs": [
    {
     "data": {
      "text/plain": [
       "'world, hello there'"
      ]
     },
     "execution_count": 110,
     "metadata": {},
     "output_type": "execute_result"
    }
   ],
   "source": [
    "greeting[6:]"
   ]
  },
  {
   "cell_type": "code",
   "execution_count": 112,
   "id": "eeb68ef9",
   "metadata": {},
   "outputs": [
    {
     "data": {
      "text/plain": [
       "'hello'"
      ]
     },
     "execution_count": 112,
     "metadata": {},
     "output_type": "execute_result"
    }
   ],
   "source": [
    "greeting[:5]"
   ]
  },
  {
   "cell_type": "code",
   "execution_count": 114,
   "id": "1578eb32",
   "metadata": {},
   "outputs": [
    {
     "data": {
      "text/plain": [
       "'world'"
      ]
     },
     "execution_count": 114,
     "metadata": {},
     "output_type": "execute_result"
    }
   ],
   "source": [
    "greeting[6:11]"
   ]
  },
  {
   "cell_type": "code",
   "execution_count": 119,
   "id": "367b1cc1",
   "metadata": {},
   "outputs": [
    {
     "data": {
      "text/plain": [
       "'the'"
      ]
     },
     "execution_count": 119,
     "metadata": {},
     "output_type": "execute_result"
    }
   ],
   "source": [
    "greeting[-5:-2]"
   ]
  },
  {
   "cell_type": "code",
   "execution_count": 120,
   "id": "8447f74d",
   "metadata": {},
   "outputs": [
    {
     "data": {
      "text/plain": [
       "''"
      ]
     },
     "execution_count": 120,
     "metadata": {},
     "output_type": "execute_result"
    }
   ],
   "source": [
    "greeting[-2:-6] # 只能从左到右，从右到左是不支持的操作"
   ]
  },
  {
   "cell_type": "code",
   "execution_count": 116,
   "id": "765a2240",
   "metadata": {},
   "outputs": [
    {
     "data": {
      "text/plain": [
       "'hlowrd el '"
      ]
     },
     "execution_count": 116,
     "metadata": {},
     "output_type": "execute_result"
    }
   ],
   "source": [
    "greeting[0:20:2]"
   ]
  },
  {
   "cell_type": "code",
   "execution_count": 121,
   "id": "ee9861ad",
   "metadata": {},
   "outputs": [
    {
     "data": {
      "text/plain": [
       "'hlowrd el hr'"
      ]
     },
     "execution_count": 121,
     "metadata": {},
     "output_type": "execute_result"
    }
   ],
   "source": [
    "greeting[::2]"
   ]
  },
  {
   "cell_type": "code",
   "execution_count": 123,
   "id": "573f41f0",
   "metadata": {},
   "outputs": [
    {
     "data": {
      "text/plain": [
       "'ereht olleh ,dlrow olleh'"
      ]
     },
     "execution_count": 123,
     "metadata": {},
     "output_type": "execute_result"
    }
   ],
   "source": [
    "greeting[::-1] # reverse"
   ]
  },
  {
   "cell_type": "markdown",
   "id": "ff248170",
   "metadata": {},
   "source": [
    "### 其他对于序列的处理\n",
    "\n",
    "#### 使用 `len()` 去获得序列的长度"
   ]
  },
  {
   "cell_type": "code",
   "execution_count": 124,
   "id": "e06605c0",
   "metadata": {},
   "outputs": [
    {
     "data": {
      "text/plain": [
       "24"
      ]
     },
     "execution_count": 124,
     "metadata": {},
     "output_type": "execute_result"
    }
   ],
   "source": [
    "len(greeting)"
   ]
  },
  {
   "cell_type": "markdown",
   "id": "0cdb3272",
   "metadata": {},
   "source": [
    "#### 使用 `split()` 去切分字符串"
   ]
  },
  {
   "cell_type": "code",
   "execution_count": 126,
   "id": "b40635f8",
   "metadata": {},
   "outputs": [
    {
     "data": {
      "text/plain": [
       "['hello', 'world,', 'hello', 'there']"
      ]
     },
     "execution_count": 126,
     "metadata": {},
     "output_type": "execute_result"
    }
   ],
   "source": [
    "greeting.split() # 默认空格"
   ]
  },
  {
   "cell_type": "code",
   "execution_count": 127,
   "id": "ebca4808",
   "metadata": {},
   "outputs": [
    {
     "data": {
      "text/plain": [
       "['hello world', 'hello there']"
      ]
     },
     "execution_count": 127,
     "metadata": {},
     "output_type": "execute_result"
    }
   ],
   "source": [
    "greeting.split(', ')"
   ]
  },
  {
   "cell_type": "markdown",
   "id": "a47d4579",
   "metadata": {},
   "source": [
    "#### 使用 `join()` 拼接字符串"
   ]
  },
  {
   "cell_type": "code",
   "execution_count": 129,
   "id": "f9e7187a",
   "metadata": {},
   "outputs": [],
   "source": [
    "languages = ['python', 'C', 'C++', 'Java']"
   ]
  },
  {
   "cell_type": "code",
   "execution_count": 131,
   "id": "17eabb17",
   "metadata": {},
   "outputs": [
    {
     "data": {
      "text/plain": [
       "'pythonCC++Java'"
      ]
     },
     "execution_count": 131,
     "metadata": {},
     "output_type": "execute_result"
    }
   ],
   "source": [
    "''.join(languages)"
   ]
  },
  {
   "cell_type": "code",
   "execution_count": 132,
   "id": "6da8a52e",
   "metadata": {},
   "outputs": [
    {
     "data": {
      "text/plain": [
       "'python, C, C++, Java'"
      ]
     },
     "execution_count": 132,
     "metadata": {},
     "output_type": "execute_result"
    }
   ],
   "source": [
    "', '.join(languages)"
   ]
  },
  {
   "cell_type": "markdown",
   "id": "96901216",
   "metadata": {},
   "source": [
    "#### 使用 `replace()` 去替换关键字\n",
    "\n",
    "其中，第三个参数可以指定替换的个数"
   ]
  },
  {
   "cell_type": "code",
   "execution_count": 134,
   "id": "a7b01e23",
   "metadata": {},
   "outputs": [],
   "source": [
    "s = 'JavaScript is programming language, Python is programming language, Java is programming language'"
   ]
  },
  {
   "cell_type": "code",
   "execution_count": 135,
   "id": "b7afc909",
   "metadata": {},
   "outputs": [
    {
     "data": {
      "text/plain": [
       "'JavaScript is not programming language, Python is not programming language, Java is not programming language'"
      ]
     },
     "execution_count": 135,
     "metadata": {},
     "output_type": "execute_result"
    }
   ],
   "source": [
    "s.replace('is', 'is not')"
   ]
  },
  {
   "cell_type": "code",
   "execution_count": 136,
   "id": "652b0e47",
   "metadata": {},
   "outputs": [
    {
     "data": {
      "text/plain": [
       "'JavaScript is not programming language, Python is programming language, Java is programming language'"
      ]
     },
     "execution_count": 136,
     "metadata": {},
     "output_type": "execute_result"
    }
   ],
   "source": [
    "s.replace('is', 'is not', 1)"
   ]
  },
  {
   "cell_type": "markdown",
   "id": "289976e6",
   "metadata": {},
   "source": [
    "#### 其他函数\n",
    "\n",
    "- `startswith`, `endswith`\n",
    "- `find`\n",
    "- `isalnum`\n",
    "- `count`\n",
    "- `strip`\n",
    "- `upper`\n",
    "- ..."
   ]
  },
  {
   "cell_type": "code",
   "execution_count": 137,
   "id": "01a29164",
   "metadata": {},
   "outputs": [
    {
     "data": {
      "application/javascript": [
       "$.getScript('https://kmahelona.github.io/ipython_notebook_goodies/ipython_notebook_toc.js')\n"
      ],
      "text/plain": [
       "<IPython.core.display.Javascript object>"
      ]
     },
     "metadata": {},
     "output_type": "display_data"
    }
   ],
   "source": [
    "%%javascript\n",
    "$.getScript('https://kmahelona.github.io/ipython_notebook_goodies/ipython_notebook_toc.js')"
   ]
  }
 ],
 "metadata": {
  "kernelspec": {
   "display_name": "Python 3",
   "language": "python",
   "name": "python3"
  },
  "language_info": {
   "codemirror_mode": {
    "name": "ipython",
    "version": 3
   },
   "file_extension": ".py",
   "mimetype": "text/x-python",
   "name": "python",
   "nbconvert_exporter": "python",
   "pygments_lexer": "ipython3",
   "version": "3.8.8"
  }
 },
 "nbformat": 4,
 "nbformat_minor": 5
}
