{
 "cells": [
  {
   "cell_type": "markdown",
   "id": "a526648c",
   "metadata": {},
   "source": [
    "<p id=\"tocheading\">Table of Contents</p>\n",
    "<div id=\"toc\"></div>"
   ]
  },
  {
   "cell_type": "code",
   "execution_count": 2,
   "id": "772a24df",
   "metadata": {},
   "outputs": [
    {
     "data": {
      "text/html": [
       "<style type=\"text/css\">\n",
       ".blue {\n",
       "    color: blue;\n",
       "}\n",
       "</style>\n"
      ],
      "text/plain": [
       "<IPython.core.display.HTML object>"
      ]
     },
     "metadata": {},
     "output_type": "display_data"
    }
   ],
   "source": [
    "%%HTML\n",
    "<style type=\"text/css\">\n",
    ".blue {\n",
    "    color: blue;\n",
    "}\n",
    "</style>"
   ]
  },
  {
   "cell_type": "markdown",
   "id": "0fc70985",
   "metadata": {},
   "source": [
    "<div class='blue'>blue</div>"
   ]
  },
  {
   "cell_type": "markdown",
   "id": "b0f04430",
   "metadata": {},
   "source": [
    "<div class='blue'>blue</div>"
   ]
  },
  {
   "cell_type": "markdown",
   "id": "d28ebeb4",
   "metadata": {},
   "source": [
    "---"
   ]
  },
  {
   "cell_type": "markdown",
   "id": "9c205798",
   "metadata": {},
   "source": [
    "<div style=\"color:red\">font red</div>"
   ]
  },
  {
   "cell_type": "markdown",
   "id": "881e0880",
   "metadata": {},
   "source": [
    "<div style=\"color:red\">font red</div>"
   ]
  },
  {
   "cell_type": "markdown",
   "id": "1cb62a58",
   "metadata": {},
   "source": [
    "---"
   ]
  },
  {
   "cell_type": "markdown",
   "id": "27fec6cc",
   "metadata": {},
   "source": [
    "<div class=\"alert alert-success\" role=\"alert\">\n",
    "  A simple success alert—check it out!\n",
    "</div>\n",
    "<div class=\"alert alert-danger\" role=\"alert\">\n",
    "  A simple danger alert—check it out!\n",
    "</div>\n",
    "<div class=\"alert alert-warning\" role=\"alert\">\n",
    "  A simple warning alert—check it out!\n",
    "</div>\n",
    "<div class=\"alert alert-info\" role=\"alert\">\n",
    "  A simple info alert—check it out!\n",
    "</div>"
   ]
  },
  {
   "cell_type": "markdown",
   "id": "71694e26",
   "metadata": {},
   "source": [
    "<div class=\"alert alert-success\" role=\"alert\">\n",
    "  A simple success alert—check it out!\n",
    "</div>\n",
    "<div class=\"alert alert-danger\" role=\"alert\">\n",
    "  A simple danger alert—check it out!\n",
    "</div>\n",
    "<div class=\"alert alert-warning\" role=\"alert\">\n",
    "  A simple warning alert—check it out!\n",
    "</div>\n",
    "<div class=\"alert alert-info\" role=\"alert\">\n",
    "  A simple info alert—check it out!\n",
    "</div>"
   ]
  },
  {
   "cell_type": "markdown",
   "id": "552daac7",
   "metadata": {},
   "source": [
    "---"
   ]
  },
  {
   "cell_type": "code",
   "execution_count": null,
   "id": "9d644d8b",
   "metadata": {},
   "outputs": [],
   "source": [
    "<table>\n",
    "  <thead>\n",
    "    <tr>\n",
    "      <th scope=\"col\">#</th>\n",
    "      <th scope=\"col\">First</th>\n",
    "      <th scope=\"col\">Last</th>\n",
    "      <th scope=\"col\">Handle</th>\n",
    "    </tr>\n",
    "  </thead>\n",
    "  <tbody>\n",
    "    <tr>\n",
    "      <th scope=\"row\">1</th>a\n",
    "      <td>Mark</td>\n",
    "      <td>Otto</td>\n",
    "      <td>@mdo</td>\n",
    "    </tr>\n",
    "    <tr>\n",
    "      <th scope=\"row\">2</th>\n",
    "      <td>Jacob</td>\n",
    "      <td>Thornton</td>\n",
    "      <td>@fat</td>\n",
    "    </tr>\n",
    "    <tr>\n",
    "      <th scope=\"row\">3</th>\n",
    "      <td>Larry</td>\n",
    "      <td>the Bird</td>\n",
    "      <td>@twitter</td>\n",
    "    </tr>\n",
    "  </tbody>\n",
    "</table>"
   ]
  },
  {
   "cell_type": "markdown",
   "id": "6b1dfef1",
   "metadata": {},
   "source": [
    "<table>\n",
    "  <thead>\n",
    "    <tr>\n",
    "      <th scope=\"col\">#</th>\n",
    "      <th scope=\"col\">First</th>\n",
    "      <th scope=\"col\">Last</th>\n",
    "      <th scope=\"col\">Handle</th>\n",
    "    </tr>\n",
    "  </thead>\n",
    "  <tbody>\n",
    "    <tr>\n",
    "      <th scope=\"row\">1</th>\n",
    "      <td>Mark</td>\n",
    "      <td>Otto</td>\n",
    "      <td>@mdo</td>\n",
    "    </tr>\n",
    "    <tr>\n",
    "      <th scope=\"row\">2</th>\n",
    "      <td>Jacob</td>\n",
    "      <td>Thornton</td>\n",
    "      <td>@fat</td>\n",
    "    </tr>\n",
    "    <tr>\n",
    "      <th scope=\"row\">3</th>\n",
    "      <td>Larry</td>\n",
    "      <td>the Bird</td>\n",
    "      <td>@twitter</td>\n",
    "    </tr>\n",
    "  </tbody>\n",
    "</table>"
   ]
  },
  {
   "cell_type": "markdown",
   "id": "9718bcff",
   "metadata": {},
   "source": [
    "<table class=\"table table-success table-striped\">\n",
    "  <thead>\n",
    "    <tr>\n",
    "      <th scope=\"col\">#</th>\n",
    "      <th scope=\"col\">First</th>\n",
    "      <th scope=\"col\">Last</th>\n",
    "      <th scope=\"col\">Handle</th>\n",
    "    </tr>\n",
    "  </thead>\n",
    "  <tbody>\n",
    "    <tr>\n",
    "      <th scope=\"row\">1</th>\n",
    "      <td>Mark</td>\n",
    "      <td>Otto</td>\n",
    "      <td>@mdo</td>\n",
    "    </tr>\n",
    "    <tr>\n",
    "      <th scope=\"row\">2</th>\n",
    "      <td>Jacob</td>\n",
    "      <td>Thornton</td>\n",
    "      <td>@fat</td>\n",
    "    </tr>\n",
    "    <tr>\n",
    "      <th scope=\"row\">3</th>\n",
    "      <td colspan=\"2\">Larry the Bird</td>\n",
    "      <td>@twitter</td>\n",
    "    </tr>\n",
    "  </tbody>\n",
    "</table>"
   ]
  },
  {
   "cell_type": "markdown",
   "id": "5006c22f",
   "metadata": {},
   "source": [
    "---"
   ]
  },
  {
   "cell_type": "code",
   "execution_count": null,
   "id": "ad45d03a",
   "metadata": {},
   "outputs": [],
   "source": [
    "type ('hello')"
   ]
  },
  {
   "cell_type": "code",
   "execution_count": null,
   "id": "987215ea",
   "metadata": {},
   "outputs": [],
   "source": [
    "%%javascript\n",
    "$.getScript('https://kmahelona.github.io/ipython_notebook_goodies/ipython_notebook_toc.js')"
   ]
  },
  {
   "cell_type": "code",
   "execution_count": null,
   "id": "0d771fa5",
   "metadata": {},
   "outputs": [],
   "source": [
    "def css_styling():\n",
    "    styles = open(\"../styles/toc.css\", \"r\").read()\n",
    "    return HTML(styles)\n",
    "css_styling()"
   ]
  },
  {
   "cell_type": "code",
   "execution_count": 14,
   "id": "277f3871",
   "metadata": {},
   "outputs": [
    {
     "data": {
      "text/html": [
       "<link href=\"https://cdn.jsdelivr.net/npm/bootstrap@5.0.2/dist/css/bootstrap.min.css\" rel=\"stylesheet\" integrity=\"sha384-EVSTQN3/azprG1Anm3QDgpJLIm9Nao0Yz1ztcQTwFspd3yD65VohhpuuCOmLASjC\" crossorigin=\"anonymous\">\n"
      ],
      "text/plain": [
       "<IPython.core.display.HTML object>"
      ]
     },
     "metadata": {},
     "output_type": "display_data"
    }
   ],
   "source": [
    "%%HTML\n",
    "<link href=\"https://cdn.jsdelivr.net/npm/bootstrap@5.0.2/dist/css/bootstrap.min.css\" rel=\"stylesheet\" integrity=\"sha384-EVSTQN3/azprG1Anm3QDgpJLIm9Nao0Yz1ztcQTwFspd3yD65VohhpuuCOmLASjC\" crossorigin=\"anonymous\">"
   ]
  },
  {
   "cell_type": "markdown",
   "id": "3ce82b43",
   "metadata": {},
   "source": []
  },
  {
   "cell_type": "code",
   "execution_count": 2,
   "id": "db2e0d4b",
   "metadata": {},
   "outputs": [],
   "source": [
    "from IPython.display import HTML"
   ]
  },
  {
   "cell_type": "code",
   "execution_count": 1,
   "id": "d43a89d8",
   "metadata": {},
   "outputs": [
    {
     "name": "stdout",
     "output_type": "stream",
     "text": [
      "-->\n"
     ]
    }
   ],
   "source": [
    "print()"
   ]
  },
  {
   "cell_type": "markdown",
   "id": "d40e739c",
   "metadata": {},
   "source": [
    "# Hello World"
   ]
  }
 ],
 "metadata": {
  "kernelspec": {
   "display_name": "Python 3",
   "language": "python",
   "name": "python3"
  },
  "language_info": {
   "codemirror_mode": {
    "name": "ipython",
    "version": 3
   },
   "file_extension": ".py",
   "mimetype": "text/x-python",
   "name": "python",
   "nbconvert_exporter": "python",
   "pygments_lexer": "ipython3",
   "version": "3.8.8"
  }
 },
 "nbformat": 4,
 "nbformat_minor": 5
}
